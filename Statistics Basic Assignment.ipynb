{
 "cells": [
  {
   "cell_type": "code",
   "execution_count": 1,
   "id": "89dbfd1b-19d0-4ce5-9571-3b4d51aff4a8",
   "metadata": {},
   "outputs": [],
   "source": [
    "#Q.what is statistics?"
   ]
  },
  {
   "cell_type": "code",
   "execution_count": 2,
   "id": "21d9495b-c3a1-47ad-90ff-fc3d5f2fd987",
   "metadata": {},
   "outputs": [],
   "source": [
    "#Ans Statistics science is collcting , organizing and analyzing that Data and gives conclusion of final results by Row Data."
   ]
  },
  {
   "cell_type": "code",
   "execution_count": 3,
   "id": "6ee63a69-3ba8-477f-9088-5570bccdbd69",
   "metadata": {},
   "outputs": [],
   "source": [
    "#Q2.Define the different types of statistics and give an example of when each type might be used."
   ]
  },
  {
   "cell_type": "code",
   "execution_count": 4,
   "id": "e70ace0f-efc4-418b-b149-8360bc577286",
   "metadata": {},
   "outputs": [],
   "source": [
    "# Types of statistics\n",
    "#1.Descriptive Statistics   2.Infrntial Statistics"
   ]
  },
  {
   "cell_type": "code",
   "execution_count": 5,
   "id": "8fbeaadb-62fc-4507-b9ef-adef5ee27d32",
   "metadata": {},
   "outputs": [],
   "source": [
    "#1. Descriptive statistics\n",
    "#measure of central tendency (Mean , Median, mood ) , Measure of Dispersion (Varient and STD Daviation"
   ]
  },
  {
   "cell_type": "code",
   "execution_count": 6,
   "id": "5a850c43-3e0e-47d1-bcf3-e8f08451d21a",
   "metadata": {},
   "outputs": [],
   "source": [
    "#2. Infrential Statistics\n",
    "#here we can find conclusion the data in main and subset of data like sample of data and population data "
   ]
  },
  {
   "cell_type": "code",
   "execution_count": 7,
   "id": "c89d65a7-9e4f-4445-b6d9-3461616622cc",
   "metadata": {},
   "outputs": [],
   "source": [
    "#Q3.What are the different types of data and how do they differ from each other? Provide an example of\n",
    "#each type of data."
   ]
  },
  {
   "cell_type": "code",
   "execution_count": 8,
   "id": "cc013ea2-fa10-4bb1-94c6-5adbace72c9f",
   "metadata": {},
   "outputs": [],
   "source": [
    "#. Ans Generly Main two types of data is avail\n",
    "# 1. Quantitative Data  , 2. Qualitative data  "
   ]
  },
  {
   "cell_type": "code",
   "execution_count": 9,
   "id": "aced0b2d-a143-4d66-a396-d2a59f3bf994",
   "metadata": {},
   "outputs": [],
   "source": [
    "#1. Quantitative data generly divide in two types \n",
    "# a. Descrete   b.contineous data \n",
    "# Eg of Decrete is Whole number eg no of bank a/c , no of childern in a home \n",
    "# Eg of Continuous Data is any value like Weight , Width, Height , Temp, Speed"
   ]
  },
  {
   "cell_type": "code",
   "execution_count": 10,
   "id": "e956f4b2-e339-4198-a9aa-92dae7be29b1",
   "metadata": {},
   "outputs": [],
   "source": [
    "#2. Qualitytative Type data  here also two types \n",
    "#a. Nominal - Gender , Blood Group, Pin code , Here can't asign the Rank.\n",
    "#b. Odinal-Customer feedback, we can gives rank "
   ]
  },
  {
   "cell_type": "code",
   "execution_count": 11,
   "id": "8e8307d6-cae9-47ba-932a-4d134e919e9b",
   "metadata": {},
   "outputs": [],
   "source": [
    "#Q4.Categorise the following datasets with respect to quantitative and qualitative data types:\n"
   ]
  },
  {
   "cell_type": "code",
   "execution_count": 12,
   "id": "d8d2feef-d890-467e-958c-0ec5cd3c8502",
   "metadata": {},
   "outputs": [],
   "source": [
    "#Ans \n",
    "#(i)-Grading in exam: A+, A, B+, B, C+, C, D, E   (Qualitytative Data type)\n",
    "#(ii)-Colour of mangoes: yellow, green, orange, red (Qualitytative Data Type)\n",
    "#(iii) Height data of a class: [178.9, 179, 179.5, 176, 177.2, 178.3, 175.8,...]   (Quantitative Data Type)\n",
    "#(iv) Number of mangoes exported by a farm: [500, 600, 478, 672, ...]     (Quantitative Data Type)"
   ]
  },
  {
   "cell_type": "code",
   "execution_count": 13,
   "id": "d1992ee8-cb61-4564-9499-92ebd505091e",
   "metadata": {},
   "outputs": [],
   "source": [
    "#Q5. Explain the concept of levels of measurement and give an example of a variable for each level."
   ]
  },
  {
   "cell_type": "code",
   "execution_count": 14,
   "id": "c5666f4c-f451-467f-aaf8-e8652697571b",
   "metadata": {},
   "outputs": [],
   "source": [
    "# Generly four types of level of measurements is avail\n",
    "#a. Nominal scal data  In this Data only we can diffrenciate to eachother of any data like Take one colour red 5 people likes\n",
    "# Blue 3 people like amd yellow 2 people likes then only we cant diffrenciate in colors \n",
    "\n",
    "#b.Odinal Sal Data . which can Ranking , Order In Any data but can't diffrenciate like gives Rank Best- Rank1 , Good -Rank2 ,Bad -\n",
    "# Rank 3.\n",
    "\n",
    "#c. Interval scal data - Here we can do in data Order , Diffrence , but can't do Ratio , No need to starting zero \n",
    "# like One temp values 30F ,60F ,90F, 120F in this values we ca gives one order and also diffrence b/w two values esaly but can't find\n",
    "#Ratio and No need must be start from Zero or hold to Zero.\n",
    "\n",
    "#D. Ratio Scal of Data Here we can do in order , Diffrence , Ratio and need to starts Zero most \n",
    "# Like Student Marks in the class 90% , 80% ,45 % ..................."
   ]
  },
  {
   "cell_type": "code",
   "execution_count": 15,
   "id": "7d45cabb-ae95-443a-9039-9298d848c14e",
   "metadata": {},
   "outputs": [],
   "source": [
    "#Q6. Whyis it important to understand the level of measurement when analyzing data? Provide an\n",
    "#example to illustrate your answer."
   ]
  },
  {
   "cell_type": "code",
   "execution_count": 16,
   "id": "d0cc6561-d2c6-4525-ba33-a0c5d19d36da",
   "metadata": {},
   "outputs": [],
   "source": [
    "#Ans . Level of Measurement is most important to analyzing the data.It is important to understand the level of measurement of\n",
    "#variables in research, because the level of measurement determines the type of statistical analysis that can be conducted, and, \n",
    "#therefore, the type of conclusions that can be drawn from the research.\n"
   ]
  },
  {
   "cell_type": "code",
   "execution_count": 17,
   "id": "92e5c3f0-3484-4e84-b6fc-3bd4077ff575",
   "metadata": {},
   "outputs": [],
   "source": [
    "#Q7. How nominal data type is different from ordinal data type."
   ]
  },
  {
   "cell_type": "code",
   "execution_count": 18,
   "id": "a7c44b81-dc5e-443e-8f84-76031bf63778",
   "metadata": {},
   "outputs": [],
   "source": [
    "#Ans A nominal Data Types is can't Asign the ranking B/W Data likes In Gender Blood ,group and Pin Code Can't Define What Is Rank Of \n",
    "# the Male Female Rank , \n",
    "# but in Odinal Data types Can Asign the rank if we are taking the Customer Feedback here Avail Rank ."
   ]
  },
  {
   "cell_type": "code",
   "execution_count": 19,
   "id": "2b005191-0ab6-47f4-890a-f1218cea7c3e",
   "metadata": {},
   "outputs": [],
   "source": [
    "#Q8.Which type of plot can be used to display data in terms of range?"
   ]
  },
  {
   "cell_type": "code",
   "execution_count": 20,
   "id": "86e64411-79c2-48ad-b518-969a5069850e",
   "metadata": {},
   "outputs": [],
   "source": [
    "#Ans Histogram. If the groups depicted in a bar chart are actually continuous numeric ranges, we can push the bars together to\n",
    "#generate a histogram. Bar lengths in histograms typically correspond to counts of data points, and their patterns demonstrate \n",
    "#the distribution of variables in your data."
   ]
  },
  {
   "cell_type": "code",
   "execution_count": 21,
   "id": "f03aadd1-fb74-4861-b04d-75fb9ac98ee9",
   "metadata": {},
   "outputs": [],
   "source": [
    "#Q9. Describe the difference between descriptive and inferential statistics. Give an example of each\n",
    "#type of statistics and explain how they are used."
   ]
  },
  {
   "cell_type": "code",
   "execution_count": 22,
   "id": "cd0f6aac-32c3-41d9-b6e6-c67fe77d7d7c",
   "metadata": {},
   "outputs": [],
   "source": [
    "#ANs nferential statistics helps to compare data, make hypotheses and predictions. Descriptive statistics explains already known\n",
    "#data related to a particular sample or population of a small size. Inferential statistics, however, aims to draw inferences or \n",
    "#conclusions about a whole population."
   ]
  },
  {
   "cell_type": "code",
   "execution_count": 23,
   "id": "04dcd28d-5c18-405c-9cde-78776f1a1801",
   "metadata": {},
   "outputs": [],
   "source": [
    "#Q10. What are some common measures of central tendency and variability used in statistics? Explain\n",
    "#how each measure can be used to describe a dataset."
   ]
  },
  {
   "cell_type": "code",
   "execution_count": null,
   "id": "d3c7798e-4272-44d5-b398-43e474d706e9",
   "metadata": {},
   "outputs": [],
   "source": [
    "#Measures of Central Tendency and Dispersion\n",
    "#The three commonly used measures of central tendency are the mean, median, and mode. A statistic that tells us how the data \n",
    "#values are dispersed or spread out is called the measure of dispersion. A simple measure of dispersion is the range.4 जन॰ 2021\n"
   ]
  }
 ],
 "metadata": {
  "kernelspec": {
   "display_name": "Python 3 (ipykernel)",
   "language": "python",
   "name": "python3"
  },
  "language_info": {
   "codemirror_mode": {
    "name": "ipython",
    "version": 3
   },
   "file_extension": ".py",
   "mimetype": "text/x-python",
   "name": "python",
   "nbconvert_exporter": "python",
   "pygments_lexer": "ipython3",
   "version": "3.10.8"
  }
 },
 "nbformat": 4,
 "nbformat_minor": 5
}
